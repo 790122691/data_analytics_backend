{
 "cells": [
  {
   "cell_type": "code",
   "execution_count": 1,
   "metadata": {},
   "outputs": [],
   "source": [
    "import yfinance as yf"
   ]
  },
  {
   "cell_type": "code",
   "execution_count": 2,
   "metadata": {},
   "outputs": [],
   "source": [
    "import pandas as pd"
   ]
  },
  {
   "cell_type": "code",
   "execution_count": 3,
   "metadata": {},
   "outputs": [],
   "source": [
    "aapl = yf.Ticker('AAPL')"
   ]
  },
  {
   "cell_type": "code",
   "execution_count": 13,
   "metadata": {},
   "outputs": [],
   "source": [
    "his = aapl.history(period='3d')"
   ]
  },
  {
   "cell_type": "code",
   "execution_count": 14,
   "metadata": {},
   "outputs": [
    {
     "data": {
      "text/html": [
       "<div>\n",
       "<style scoped>\n",
       "    .dataframe tbody tr th:only-of-type {\n",
       "        vertical-align: middle;\n",
       "    }\n",
       "\n",
       "    .dataframe tbody tr th {\n",
       "        vertical-align: top;\n",
       "    }\n",
       "\n",
       "    .dataframe thead th {\n",
       "        text-align: right;\n",
       "    }\n",
       "</style>\n",
       "<table border=\"1\" class=\"dataframe\">\n",
       "  <thead>\n",
       "    <tr style=\"text-align: right;\">\n",
       "      <th></th>\n",
       "      <th>Open</th>\n",
       "      <th>High</th>\n",
       "      <th>Low</th>\n",
       "      <th>Close</th>\n",
       "      <th>Volume</th>\n",
       "      <th>Dividends</th>\n",
       "      <th>Stock Splits</th>\n",
       "    </tr>\n",
       "    <tr>\n",
       "      <th>Date</th>\n",
       "      <th></th>\n",
       "      <th></th>\n",
       "      <th></th>\n",
       "      <th></th>\n",
       "      <th></th>\n",
       "      <th></th>\n",
       "      <th></th>\n",
       "    </tr>\n",
       "  </thead>\n",
       "  <tbody>\n",
       "    <tr>\n",
       "      <th>2019-08-07</th>\n",
       "      <td>194.67</td>\n",
       "      <td>198.80</td>\n",
       "      <td>193.09</td>\n",
       "      <td>198.29</td>\n",
       "      <td>33364400</td>\n",
       "      <td>0.00</td>\n",
       "      <td>0</td>\n",
       "    </tr>\n",
       "    <tr>\n",
       "      <th>2019-08-08</th>\n",
       "      <td>199.44</td>\n",
       "      <td>202.76</td>\n",
       "      <td>198.64</td>\n",
       "      <td>202.66</td>\n",
       "      <td>27009500</td>\n",
       "      <td>0.00</td>\n",
       "      <td>0</td>\n",
       "    </tr>\n",
       "    <tr>\n",
       "      <th>2019-08-09</th>\n",
       "      <td>201.30</td>\n",
       "      <td>202.76</td>\n",
       "      <td>199.29</td>\n",
       "      <td>200.99</td>\n",
       "      <td>24423000</td>\n",
       "      <td>0.77</td>\n",
       "      <td>0</td>\n",
       "    </tr>\n",
       "  </tbody>\n",
       "</table>\n",
       "</div>"
      ],
      "text/plain": [
       "              Open    High     Low   Close    Volume  Dividends  Stock Splits\n",
       "Date                                                                         \n",
       "2019-08-07  194.67  198.80  193.09  198.29  33364400       0.00             0\n",
       "2019-08-08  199.44  202.76  198.64  202.66  27009500       0.00             0\n",
       "2019-08-09  201.30  202.76  199.29  200.99  24423000       0.77             0"
      ]
     },
     "execution_count": 14,
     "metadata": {},
     "output_type": "execute_result"
    }
   ],
   "source": [
    "his"
   ]
  },
  {
   "cell_type": "code",
   "execution_count": 15,
   "metadata": {},
   "outputs": [
    {
     "data": {
      "text/plain": [
       "'{\"Open\":{\"1565136000000\":194.67,\"1565222400000\":199.44,\"1565308800000\":201.3},\"High\":{\"1565136000000\":198.8,\"1565222400000\":202.76,\"1565308800000\":202.76},\"Low\":{\"1565136000000\":193.09,\"1565222400000\":198.64,\"1565308800000\":199.29},\"Close\":{\"1565136000000\":198.29,\"1565222400000\":202.66,\"1565308800000\":200.99},\"Volume\":{\"1565136000000\":33364400,\"1565222400000\":27009500,\"1565308800000\":24423000},\"Dividends\":{\"1565136000000\":0.0,\"1565222400000\":0.0,\"1565308800000\":0.77},\"Stock Splits\":{\"1565136000000\":0,\"1565222400000\":0,\"1565308800000\":0}}'"
      ]
     },
     "execution_count": 15,
     "metadata": {},
     "output_type": "execute_result"
    }
   ],
   "source": [
    "his.to_json()"
   ]
  },
  {
   "cell_type": "code",
   "execution_count": 20,
   "metadata": {},
   "outputs": [],
   "source": [
    "info_dic = aapl.info"
   ]
  },
  {
   "cell_type": "code",
   "execution_count": 19,
   "metadata": {},
   "outputs": [],
   "source": [
    "import json"
   ]
  },
  {
   "cell_type": "code",
   "execution_count": 21,
   "metadata": {},
   "outputs": [],
   "source": [
    "info_str = json.dumps(info_dic)"
   ]
  },
  {
   "cell_type": "code",
   "execution_count": 22,
   "metadata": {},
   "outputs": [
    {
     "data": {
      "text/plain": [
       "'{\"language\": \"en-US\", \"region\": \"US\", \"quoteType\": \"EQUITY\", \"quoteSourceName\": \"Nasdaq Real Time Price\", \"currency\": \"USD\", \"priceHint\": 2, \"fiftyDayAverageChange\": -2.8923492, \"fiftyDayAverageChangePercent\": -0.014226137, \"forwardPE\": 15.621201, \"regularMarketDayRange\": \"199.35 - 200.85\", \"regularMarketPreviousClose\": 200.99, \"bid\": 199.46, \"ask\": 199.65, \"bidSize\": 11, \"esgPopulated\": false, \"tradeable\": true, \"triggerable\": true, \"exchangeDataDelayedBy\": 0, \"epsTrailingTwelveMonths\": 11.777, \"epsForward\": 12.83, \"financialCurrency\": \"USD\", \"averageDailyVolume3Month\": 27065831, \"averageDailyVolume10Day\": 35646133, \"fiftyTwoWeekLowChange\": 58.42, \"fiftyDayAverage\": 203.31235, \"regularMarketChangePercent\": -0.28359982, \"shortName\": \"Apple Inc.\", \"fiftyTwoWeekLow\": 142.0, \"fiftyTwoWeekHigh\": 233.47, \"earningsTimestamp\": 1564531200, \"marketCap\": 905733996544, \"twoHundredDayAverage\": 190.3216, \"twoHundredDayAverageChange\": 10.098404, \"twoHundredDayAverageChangePercent\": 0.053059686, \"earningsTimestampStart\": 1572447540, \"earningsTimestampEnd\": 1572886800, \"trailingAnnualDividendRate\": 2.96, \"trailingPE\": 17.017916, \"priceToBook\": 9.415579, \"sourceInterval\": 15, \"exchangeTimezoneName\": \"America/New_York\", \"exchangeTimezoneShortName\": \"EDT\", \"trailingAnnualDividendYield\": 0.014727101, \"gmtOffSetMilliseconds\": -14400000, \"regularMarketPrice\": 200.42, \"regularMarketTime\": 1565616859, \"regularMarketChange\": -0.5700073, \"regularMarketOpen\": 199.62, \"regularMarketDayHigh\": 200.85, \"regularMarketDayLow\": 199.35, \"regularMarketVolume\": 1098190, \"fiftyTwoWeekLowChangePercent\": 0.41140842, \"fiftyTwoWeekRange\": \"142.0 - 233.47\", \"fiftyTwoWeekHighChange\": -33.050003, \"fiftyTwoWeekHighChangePercent\": -0.14155996, \"dividendDate\": 1565827200, \"askSize\": 8, \"messageBoardId\": \"finmb_24937\", \"fullExchangeName\": \"NasdaqGS\", \"longName\": \"Apple Inc.\", \"sharesOutstanding\": 4601079808, \"marketState\": \"REGULAR\", \"bookValue\": 21.286, \"exchange\": \"NMS\", \"market\": \"us_market\", \"symbol\": \"AAPL\"}'"
      ]
     },
     "execution_count": 22,
     "metadata": {},
     "output_type": "execute_result"
    }
   ],
   "source": [
    "info_str"
   ]
  },
  {
   "cell_type": "code",
   "execution_count": 23,
   "metadata": {},
   "outputs": [],
   "source": [
    "info_d = json.loads(info_str)"
   ]
  },
  {
   "cell_type": "code",
   "execution_count": 24,
   "metadata": {},
   "outputs": [
    {
     "data": {
      "text/plain": [
       "{'language': 'en-US',\n",
       " 'region': 'US',\n",
       " 'quoteType': 'EQUITY',\n",
       " 'quoteSourceName': 'Nasdaq Real Time Price',\n",
       " 'currency': 'USD',\n",
       " 'priceHint': 2,\n",
       " 'fiftyDayAverageChange': -2.8923492,\n",
       " 'fiftyDayAverageChangePercent': -0.014226137,\n",
       " 'forwardPE': 15.621201,\n",
       " 'regularMarketDayRange': '199.35 - 200.85',\n",
       " 'regularMarketPreviousClose': 200.99,\n",
       " 'bid': 199.46,\n",
       " 'ask': 199.65,\n",
       " 'bidSize': 11,\n",
       " 'esgPopulated': False,\n",
       " 'tradeable': True,\n",
       " 'triggerable': True,\n",
       " 'exchangeDataDelayedBy': 0,\n",
       " 'epsTrailingTwelveMonths': 11.777,\n",
       " 'epsForward': 12.83,\n",
       " 'financialCurrency': 'USD',\n",
       " 'averageDailyVolume3Month': 27065831,\n",
       " 'averageDailyVolume10Day': 35646133,\n",
       " 'fiftyTwoWeekLowChange': 58.42,\n",
       " 'fiftyDayAverage': 203.31235,\n",
       " 'regularMarketChangePercent': -0.28359982,\n",
       " 'shortName': 'Apple Inc.',\n",
       " 'fiftyTwoWeekLow': 142.0,\n",
       " 'fiftyTwoWeekHigh': 233.47,\n",
       " 'earningsTimestamp': 1564531200,\n",
       " 'marketCap': 905733996544,\n",
       " 'twoHundredDayAverage': 190.3216,\n",
       " 'twoHundredDayAverageChange': 10.098404,\n",
       " 'twoHundredDayAverageChangePercent': 0.053059686,\n",
       " 'earningsTimestampStart': 1572447540,\n",
       " 'earningsTimestampEnd': 1572886800,\n",
       " 'trailingAnnualDividendRate': 2.96,\n",
       " 'trailingPE': 17.017916,\n",
       " 'priceToBook': 9.415579,\n",
       " 'sourceInterval': 15,\n",
       " 'exchangeTimezoneName': 'America/New_York',\n",
       " 'exchangeTimezoneShortName': 'EDT',\n",
       " 'trailingAnnualDividendYield': 0.014727101,\n",
       " 'gmtOffSetMilliseconds': -14400000,\n",
       " 'regularMarketPrice': 200.42,\n",
       " 'regularMarketTime': 1565616859,\n",
       " 'regularMarketChange': -0.5700073,\n",
       " 'regularMarketOpen': 199.62,\n",
       " 'regularMarketDayHigh': 200.85,\n",
       " 'regularMarketDayLow': 199.35,\n",
       " 'regularMarketVolume': 1098190,\n",
       " 'fiftyTwoWeekLowChangePercent': 0.41140842,\n",
       " 'fiftyTwoWeekRange': '142.0 - 233.47',\n",
       " 'fiftyTwoWeekHighChange': -33.050003,\n",
       " 'fiftyTwoWeekHighChangePercent': -0.14155996,\n",
       " 'dividendDate': 1565827200,\n",
       " 'askSize': 8,\n",
       " 'messageBoardId': 'finmb_24937',\n",
       " 'fullExchangeName': 'NasdaqGS',\n",
       " 'longName': 'Apple Inc.',\n",
       " 'sharesOutstanding': 4601079808,\n",
       " 'marketState': 'REGULAR',\n",
       " 'bookValue': 21.286,\n",
       " 'exchange': 'NMS',\n",
       " 'market': 'us_market',\n",
       " 'symbol': 'AAPL'}"
      ]
     },
     "execution_count": 24,
     "metadata": {},
     "output_type": "execute_result"
    }
   ],
   "source": [
    "info_d"
   ]
  },
  {
   "cell_type": "code",
   "execution_count": 28,
   "metadata": {},
   "outputs": [
    {
     "data": {
      "text/plain": [
       "'AAPL'"
      ]
     },
     "execution_count": 28,
     "metadata": {},
     "output_type": "execute_result"
    }
   ],
   "source": [
    "info_d['symbol']"
   ]
  },
  {
   "cell_type": "code",
   "execution_count": null,
   "metadata": {},
   "outputs": [],
   "source": []
  }
 ],
 "metadata": {
  "kernelspec": {
   "display_name": "Python 3",
   "language": "python",
   "name": "python3"
  },
  "language_info": {
   "codemirror_mode": {
    "name": "ipython",
    "version": 3
   },
   "file_extension": ".py",
   "mimetype": "text/x-python",
   "name": "python",
   "nbconvert_exporter": "python",
   "pygments_lexer": "ipython3",
   "version": "3.6.8"
  }
 },
 "nbformat": 4,
 "nbformat_minor": 2
}
